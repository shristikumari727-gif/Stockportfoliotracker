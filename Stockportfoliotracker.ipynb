{
 "cells": [
  {
   "cell_type": "code",
   "execution_count": null,
   "id": "7cc69b62-8bf1-4c7f-82b9-5440b550f198",
   "metadata": {},
   "outputs": [],
   "source": [
    "stock_prices = {\"AAPL\": 180, \"TSLA\": 250, \"GOOG\": 150, \"AMZN\": 135}"
   ]
  },
  {
   "cell_type": "code",
   "execution_count": null,
   "id": "0702e8fb-9bdd-44c3-a4bf-f79861c20d52",
   "metadata": {},
   "outputs": [
    {
     "name": "stdout",
     "output_type": "stream",
     "text": [
      "Enter stock ticker (or 'done' to finish):  done\n"
     ]
    },
    {
     "name": "stdout",
     "output_type": "stream",
     "text": [
      "\n",
      "Your current portfolio:\n"
     ]
    }
   ],
   "source": [
    "portfolio = {}\n",
    "while True:\n",
    "    stock_name = input(\"Enter stock ticker (or 'done' to finish): \").upper()\n",
    "    if stock_name == 'DONE':\n",
    "        break\n",
    "    if stock_name not in stock_prices:\n",
    "        print(f\"Stock ticker {stock_name} not found in our price list.\")\n",
    "        continue\n",
    "    while True:\n",
    "        try:\n",
    "            quantity = int(input(f\"Enter quantity for {stock_name}: \"))\n",
    "            if quantity <= 0:\n",
    "                 print(\"Quantity must be a positive number.\")\n",
    "                 continue\n",
    "            portfolio[stock_name] = quantity\n",
    "            break\n",
    "        except ValueError:\n",
    "            print(\"Invalid input. Please enter a whole number for the quantity.\")\n",
    "\n",
    "print(\"\\nYour current portfolio:\")\n",
    "for stock, quantity in portfolio.items():\n",
    "    print(f\"{stock}: {quantity}\")"
   ]
  },
  {
   "cell_type": "code",
   "execution_count": null,
   "id": "216bfdcd-3f5d-46dc-88d9-efe40ab51e80",
   "metadata": {},
   "outputs": [
    {
     "name": "stdout",
     "output_type": "stream",
     "text": [
      "\n",
      "Total investment value: $0.00\n"
     ]
    }
   ],
   "source": [
    "total_investment = 0\n",
    "for stock, quantity in portfolio.items():\n",
    "    if stock in stock_prices:\n",
    "        total_investment += stock_prices[stock] * quantity\n",
    "    else:\n",
    "        print(f\"Warning: Price for {stock} not found. Skipping calculation for this stock.\")\n",
    "\n",
    "print(f\"\\nTotal investment value: ${total_investment:.2f}\")"
   ]
  },
  {
   "cell_type": "code",
   "execution_count": null,
   "id": "4c887ddf-559a-4dcc-93dd-6ac0f00fcb87",
   "metadata": {},
   "outputs": [
    {
     "name": "stdout",
     "output_type": "stream",
     "text": [
      "Do you want to save the results to a file? (yes/no):  yes\n"
     ]
    },
    {
     "name": "stdout",
     "output_type": "stream",
     "text": [
      "Results saved to stock_tracker_results.txt\n"
     ]
    }
   ],
   "source": [
    "save_option = input(\"Do you want to save the results to a file? (yes/no): \").lower()\n",
    "\n",
    "if save_option == 'yes':\n",
    "    with open('stock_tracker_results.txt', 'w') as f:\n",
    "        f.write(\"Stock Tracker Results\\n\\n\")\n",
    "        f.write(\"Portfolio:\\n\")\n",
    "        for stock, quantity in portfolio.items():\n",
    "            f.write(f\"{stock}: {quantity}\\n\")\n",
    "        f.write(f\"\\nTotal Investment Value: ${total_investment:.2f}\\n\")\n",
    "    print(\"Results saved to stock_tracker_results.txt\")"
   ]
  },
  {
   "cell_type": "code",
   "execution_count": null,
   "id": "9f3472cf-412e-4beb-808d-646da14c0f87",
   "metadata": {},
   "outputs": [],
   "source": []
  }
 ],
 "metadata": {
  "kernelspec": {
   "display_name": "Python 3 (ipykernel)",
   "language": "python",
   "name": "python3"
  },
  "language_info": {
   "codemirror_mode": {
    "name": "ipython",
    "version": 3
   },
   "file_extension": ".py",
   "mimetype": "text/x-python",
   "name": "python",
   "nbconvert_exporter": "python",
   "pygments_lexer": "ipython3",
   "version": "3.13.5"
  }
 },
 "nbformat": 4,
 "nbformat_minor": 5
}
